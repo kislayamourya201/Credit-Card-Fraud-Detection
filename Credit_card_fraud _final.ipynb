{
 "cells": [
  {
   "cell_type": "markdown",
   "metadata": {
    "id": "ec_GTZ1cH6T-"
   },
   "source": [
    "<h1><center>Credit Card Fraud Detection</center></h1>\n",
    "\n",
    "### Context\n",
    "\n",
    "- It is important that credit card companies are able to recognize fraudulent credit card transactions so that customers are not charged for items that they did not purchase.\n",
    "\n",
    "### Content\n",
    "\n",
    "- The datasets contains transactions made by credit cards in September 2013 by european cardholders. \n",
    "- This dataset presents transactions that occurred in two days, where we have 492 frauds out of 284,807 transactions. \n",
    "- The dataset is highly unbalanced, the positive class (frauds) account for 0.172% of all transactions.\n",
    "- It contains only numerical input variables which are the result of a PCA transformation. \n",
    "- Unfortunately, due to confidentiality issues, we cannot provide the original features \n",
    "- Features V1, V2, ... V28 are the principal components obtained with PCA\n",
    "- The only features which have not been transformed with PCA are 'Time' and 'Amount'. \n",
    "- Feature 'Time' contains the seconds elapsed between each transaction and the first transaction in the dataset. \n",
    "- The feature 'Amount' is the transaction Amount, this feature can be used for example-dependant cost-senstive learning. - - --- Feature 'Class' is the response variable and it takes value 1 in case of fraud and 0 otherwise.\n",
    "\n",
    "### Task\n",
    "- Identify fraudulent credit card transactions."
   ]
  },
  {
   "cell_type": "markdown",
   "metadata": {
    "id": "hCxzlvpkOCC9"
   },
   "source": [
    "## Importing necessary packages"
   ]
  },
  {
   "cell_type": "code",
   "execution_count": 1,
   "metadata": {
    "id": "9KK14b0RMsLO"
   },
   "outputs": [],
   "source": [
    "#General Libraries\n",
    "\n",
    "import pandas as pd\n",
    "import numpy as np\n",
    "import seaborn as sns \n",
    "import matplotlib.pyplot as plt\n",
    "%matplotlib inline\n",
    "import string\n",
    "import warnings\n",
    "pd.set_option(\"display.max_colwidth\",200)\n",
    "warnings.filterwarnings(\"ignore\",category=DeprecationWarning)\n",
    "pd.options.display.max_colwidth = 300\n",
    "\n",
    "#For model building and evaluation\n",
    "import sklearn\n",
    "from sklearn.model_selection import train_test_split\n",
    "from sklearn.metrics import confusion_matrix\n",
    "from sklearn import metrics\n",
    "from sklearn.metrics import cohen_kappa_score\n",
    "from sklearn.neighbors import KNeighborsClassifier\n",
    "from sklearn.linear_model import LogisticRegression\n",
    "from sklearn.ensemble import IsolationForest\n",
    "from sklearn.neighbors import LocalOutlierFactor"
   ]
  },
  {
   "cell_type": "code",
   "execution_count": 64,
   "metadata": {
    "colab": {
     "base_uri": "https://localhost:8080/",
     "height": 224
    },
    "id": "vUolMD5jN3zm",
    "outputId": "6b209eae-d868-4482-e1fe-9d4c63ee4763"
   },
   "outputs": [
    {
     "data": {
      "text/html": [
       "<div>\n",
       "<style scoped>\n",
       "    .dataframe tbody tr th:only-of-type {\n",
       "        vertical-align: middle;\n",
       "    }\n",
       "\n",
       "    .dataframe tbody tr th {\n",
       "        vertical-align: top;\n",
       "    }\n",
       "\n",
       "    .dataframe thead th {\n",
       "        text-align: right;\n",
       "    }\n",
       "</style>\n",
       "<table border=\"1\" class=\"dataframe\">\n",
       "  <thead>\n",
       "    <tr style=\"text-align: right;\">\n",
       "      <th></th>\n",
       "      <th>Time</th>\n",
       "      <th>V1</th>\n",
       "      <th>V2</th>\n",
       "      <th>V3</th>\n",
       "      <th>V4</th>\n",
       "      <th>V5</th>\n",
       "      <th>V6</th>\n",
       "      <th>V7</th>\n",
       "      <th>V8</th>\n",
       "      <th>V9</th>\n",
       "      <th>...</th>\n",
       "      <th>V21</th>\n",
       "      <th>V22</th>\n",
       "      <th>V23</th>\n",
       "      <th>V24</th>\n",
       "      <th>V25</th>\n",
       "      <th>V26</th>\n",
       "      <th>V27</th>\n",
       "      <th>V28</th>\n",
       "      <th>Amount</th>\n",
       "      <th>Class</th>\n",
       "    </tr>\n",
       "  </thead>\n",
       "  <tbody>\n",
       "    <tr>\n",
       "      <th>0</th>\n",
       "      <td>0.0</td>\n",
       "      <td>-1.359807</td>\n",
       "      <td>-0.072781</td>\n",
       "      <td>2.536347</td>\n",
       "      <td>1.378155</td>\n",
       "      <td>-0.338321</td>\n",
       "      <td>0.462388</td>\n",
       "      <td>0.239599</td>\n",
       "      <td>0.098698</td>\n",
       "      <td>0.363787</td>\n",
       "      <td>...</td>\n",
       "      <td>-0.018307</td>\n",
       "      <td>0.277838</td>\n",
       "      <td>-0.110474</td>\n",
       "      <td>0.066928</td>\n",
       "      <td>0.128539</td>\n",
       "      <td>-0.189115</td>\n",
       "      <td>0.133558</td>\n",
       "      <td>-0.021053</td>\n",
       "      <td>149.62</td>\n",
       "      <td>0</td>\n",
       "    </tr>\n",
       "    <tr>\n",
       "      <th>1</th>\n",
       "      <td>0.0</td>\n",
       "      <td>1.191857</td>\n",
       "      <td>0.266151</td>\n",
       "      <td>0.166480</td>\n",
       "      <td>0.448154</td>\n",
       "      <td>0.060018</td>\n",
       "      <td>-0.082361</td>\n",
       "      <td>-0.078803</td>\n",
       "      <td>0.085102</td>\n",
       "      <td>-0.255425</td>\n",
       "      <td>...</td>\n",
       "      <td>-0.225775</td>\n",
       "      <td>-0.638672</td>\n",
       "      <td>0.101288</td>\n",
       "      <td>-0.339846</td>\n",
       "      <td>0.167170</td>\n",
       "      <td>0.125895</td>\n",
       "      <td>-0.008983</td>\n",
       "      <td>0.014724</td>\n",
       "      <td>2.69</td>\n",
       "      <td>0</td>\n",
       "    </tr>\n",
       "    <tr>\n",
       "      <th>2</th>\n",
       "      <td>1.0</td>\n",
       "      <td>-1.358354</td>\n",
       "      <td>-1.340163</td>\n",
       "      <td>1.773209</td>\n",
       "      <td>0.379780</td>\n",
       "      <td>-0.503198</td>\n",
       "      <td>1.800499</td>\n",
       "      <td>0.791461</td>\n",
       "      <td>0.247676</td>\n",
       "      <td>-1.514654</td>\n",
       "      <td>...</td>\n",
       "      <td>0.247998</td>\n",
       "      <td>0.771679</td>\n",
       "      <td>0.909412</td>\n",
       "      <td>-0.689281</td>\n",
       "      <td>-0.327642</td>\n",
       "      <td>-0.139097</td>\n",
       "      <td>-0.055353</td>\n",
       "      <td>-0.059752</td>\n",
       "      <td>378.66</td>\n",
       "      <td>0</td>\n",
       "    </tr>\n",
       "    <tr>\n",
       "      <th>3</th>\n",
       "      <td>1.0</td>\n",
       "      <td>-0.966272</td>\n",
       "      <td>-0.185226</td>\n",
       "      <td>1.792993</td>\n",
       "      <td>-0.863291</td>\n",
       "      <td>-0.010309</td>\n",
       "      <td>1.247203</td>\n",
       "      <td>0.237609</td>\n",
       "      <td>0.377436</td>\n",
       "      <td>-1.387024</td>\n",
       "      <td>...</td>\n",
       "      <td>-0.108300</td>\n",
       "      <td>0.005274</td>\n",
       "      <td>-0.190321</td>\n",
       "      <td>-1.175575</td>\n",
       "      <td>0.647376</td>\n",
       "      <td>-0.221929</td>\n",
       "      <td>0.062723</td>\n",
       "      <td>0.061458</td>\n",
       "      <td>123.50</td>\n",
       "      <td>0</td>\n",
       "    </tr>\n",
       "    <tr>\n",
       "      <th>4</th>\n",
       "      <td>2.0</td>\n",
       "      <td>-1.158233</td>\n",
       "      <td>0.877737</td>\n",
       "      <td>1.548718</td>\n",
       "      <td>0.403034</td>\n",
       "      <td>-0.407193</td>\n",
       "      <td>0.095921</td>\n",
       "      <td>0.592941</td>\n",
       "      <td>-0.270533</td>\n",
       "      <td>0.817739</td>\n",
       "      <td>...</td>\n",
       "      <td>-0.009431</td>\n",
       "      <td>0.798278</td>\n",
       "      <td>-0.137458</td>\n",
       "      <td>0.141267</td>\n",
       "      <td>-0.206010</td>\n",
       "      <td>0.502292</td>\n",
       "      <td>0.219422</td>\n",
       "      <td>0.215153</td>\n",
       "      <td>69.99</td>\n",
       "      <td>0</td>\n",
       "    </tr>\n",
       "  </tbody>\n",
       "</table>\n",
       "<p>5 rows × 31 columns</p>\n",
       "</div>"
      ],
      "text/plain": [
       "   Time        V1        V2        V3        V4        V5        V6        V7  \\\n",
       "0   0.0 -1.359807 -0.072781  2.536347  1.378155 -0.338321  0.462388  0.239599   \n",
       "1   0.0  1.191857  0.266151  0.166480  0.448154  0.060018 -0.082361 -0.078803   \n",
       "2   1.0 -1.358354 -1.340163  1.773209  0.379780 -0.503198  1.800499  0.791461   \n",
       "3   1.0 -0.966272 -0.185226  1.792993 -0.863291 -0.010309  1.247203  0.237609   \n",
       "4   2.0 -1.158233  0.877737  1.548718  0.403034 -0.407193  0.095921  0.592941   \n",
       "\n",
       "         V8        V9  ...       V21       V22       V23       V24       V25  \\\n",
       "0  0.098698  0.363787  ... -0.018307  0.277838 -0.110474  0.066928  0.128539   \n",
       "1  0.085102 -0.255425  ... -0.225775 -0.638672  0.101288 -0.339846  0.167170   \n",
       "2  0.247676 -1.514654  ...  0.247998  0.771679  0.909412 -0.689281 -0.327642   \n",
       "3  0.377436 -1.387024  ... -0.108300  0.005274 -0.190321 -1.175575  0.647376   \n",
       "4 -0.270533  0.817739  ... -0.009431  0.798278 -0.137458  0.141267 -0.206010   \n",
       "\n",
       "        V26       V27       V28  Amount  Class  \n",
       "0 -0.189115  0.133558 -0.021053  149.62      0  \n",
       "1  0.125895 -0.008983  0.014724    2.69      0  \n",
       "2 -0.139097 -0.055353 -0.059752  378.66      0  \n",
       "3 -0.221929  0.062723  0.061458  123.50      0  \n",
       "4  0.502292  0.219422  0.215153   69.99      0  \n",
       "\n",
       "[5 rows x 31 columns]"
      ]
     },
     "execution_count": 64,
     "metadata": {},
     "output_type": "execute_result"
    }
   ],
   "source": [
    "#Reading and getting first glance of data:-\n",
    "\n",
    "df=pd.read_csv('D:/Datasets/creditcard.csv')\n",
    "df.head()"
   ]
  },
  {
   "cell_type": "code",
   "execution_count": 37,
   "metadata": {
    "colab": {
     "base_uri": "https://localhost:8080/"
    },
    "id": "HiT7lMjJPZ2W",
    "outputId": "ecee7159-5faa-4ed7-b0ed-49aa5d01da52"
   },
   "outputs": [
    {
     "data": {
      "text/plain": [
       "(172441, 31)"
      ]
     },
     "execution_count": 37,
     "metadata": {
      "tags": []
     },
     "output_type": "execute_result"
    }
   ],
   "source": [
    "df.shape"
   ]
  },
  {
   "cell_type": "code",
   "execution_count": 38,
   "metadata": {
    "colab": {
     "base_uri": "https://localhost:8080/"
    },
    "id": "FxP7Ihi2Pa-q",
    "outputId": "d25edf40-d23d-49a7-d554-56f264dda888"
   },
   "outputs": [
    {
     "name": "stdout",
     "output_type": "stream",
     "text": [
      "<class 'pandas.core.frame.DataFrame'>\n",
      "RangeIndex: 172441 entries, 0 to 172440\n",
      "Data columns (total 31 columns):\n",
      " #   Column  Non-Null Count   Dtype  \n",
      "---  ------  --------------   -----  \n",
      " 0   Time    172441 non-null  float64\n",
      " 1   V1      172441 non-null  float64\n",
      " 2   V2      172440 non-null  float64\n",
      " 3   V3      172440 non-null  float64\n",
      " 4   V4      172440 non-null  float64\n",
      " 5   V5      172440 non-null  float64\n",
      " 6   V6      172440 non-null  float64\n",
      " 7   V7      172440 non-null  float64\n",
      " 8   V8      172440 non-null  float64\n",
      " 9   V9      172440 non-null  float64\n",
      " 10  V10     172440 non-null  float64\n",
      " 11  V11     172440 non-null  float64\n",
      " 12  V12     172440 non-null  float64\n",
      " 13  V13     172440 non-null  float64\n",
      " 14  V14     172440 non-null  float64\n",
      " 15  V15     172440 non-null  float64\n",
      " 16  V16     172440 non-null  float64\n",
      " 17  V17     172440 non-null  float64\n",
      " 18  V18     172440 non-null  float64\n",
      " 19  V19     172440 non-null  float64\n",
      " 20  V20     172440 non-null  float64\n",
      " 21  V21     172440 non-null  float64\n",
      " 22  V22     172440 non-null  float64\n",
      " 23  V23     172440 non-null  float64\n",
      " 24  V24     172440 non-null  float64\n",
      " 25  V25     172440 non-null  float64\n",
      " 26  V26     172440 non-null  float64\n",
      " 27  V27     172440 non-null  float64\n",
      " 28  V28     172440 non-null  float64\n",
      " 29  Amount  172440 non-null  float64\n",
      " 30  Class   172440 non-null  float64\n",
      "dtypes: float64(31)\n",
      "memory usage: 40.8 MB\n"
     ]
    }
   ],
   "source": [
    "df.info()"
   ]
  },
  {
   "cell_type": "markdown",
   "metadata": {
    "id": "sbcIpnT3PySF"
   },
   "source": [
    "- We can observe that data-set is pretty clean with only numerical and continious columns \n",
    "- It has no null values\n",
    "- It is pretty big with more than seventy-three thousand rows and 31 columns."
   ]
  },
  {
   "cell_type": "code",
   "execution_count": 39,
   "metadata": {
    "colab": {
     "base_uri": "https://localhost:8080/",
     "height": 111
    },
    "id": "Xjdkf03vPdJ6",
    "outputId": "24bf1c33-b04e-4363-9049-7c32e595d3f2"
   },
   "outputs": [
    {
     "data": {
      "text/html": [
       "<div>\n",
       "<style scoped>\n",
       "    .dataframe tbody tr th:only-of-type {\n",
       "        vertical-align: middle;\n",
       "    }\n",
       "\n",
       "    .dataframe tbody tr th {\n",
       "        vertical-align: top;\n",
       "    }\n",
       "\n",
       "    .dataframe thead th {\n",
       "        text-align: right;\n",
       "    }\n",
       "</style>\n",
       "<table border=\"1\" class=\"dataframe\">\n",
       "  <thead>\n",
       "    <tr style=\"text-align: right;\">\n",
       "      <th></th>\n",
       "      <th>Class</th>\n",
       "      <th>Values</th>\n",
       "      <th>Precent</th>\n",
       "    </tr>\n",
       "  </thead>\n",
       "  <tbody>\n",
       "    <tr>\n",
       "      <th>0</th>\n",
       "      <td>Non-fraud</td>\n",
       "      <td>172080</td>\n",
       "      <td>99.790653</td>\n",
       "    </tr>\n",
       "    <tr>\n",
       "      <th>1</th>\n",
       "      <td>Fraud</td>\n",
       "      <td>360</td>\n",
       "      <td>0.208767</td>\n",
       "    </tr>\n",
       "  </tbody>\n",
       "</table>\n",
       "</div>"
      ],
      "text/plain": [
       "       Class  Values    Precent\n",
       "0  Non-fraud  172080  99.790653\n",
       "1      Fraud     360   0.208767"
      ]
     },
     "execution_count": 39,
     "metadata": {
      "tags": []
     },
     "output_type": "execute_result"
    }
   ],
   "source": [
    "#Checking imbalancement:\n",
    "\n",
    "d=df['Class'].value_counts().reset_index()\n",
    "d.rename(columns={'index':'Class','Class':'Values'},inplace=True)\n",
    "d['Precent']=d['Values']/df.shape[0]*100\n",
    "d['Class']=['Non-fraud' if i==0 else \"Fraud\" for i in d['Class']]\n",
    "d"
   ]
  },
  {
   "cell_type": "markdown",
   "metadata": {
    "id": "Gr_cNjG6TaTk"
   },
   "source": [
    "- As we can clearly see that data-set is heavily imbalanced as a event of fraud is highly rare or uncommon."
   ]
  },
  {
   "cell_type": "code",
   "execution_count": 65,
   "metadata": {
    "id": "W5pLPVdzH6UK"
   },
   "outputs": [],
   "source": [
    "#Seperating the Fraud and the ok values \n",
    "fraud = df[df['Class']==1]\n",
    "ok = df[df['Class']==0]"
   ]
  },
  {
   "cell_type": "code",
   "execution_count": 49,
   "metadata": {
    "colab": {
     "base_uri": "https://localhost:8080/",
     "height": 297
    },
    "id": "YM5LiSK9H6UL",
    "outputId": "f5e8c250-34b3-47de-de68-04e4f18d5b6c"
   },
   "outputs": [
    {
     "data": {
      "text/html": [
       "<div>\n",
       "<style scoped>\n",
       "    .dataframe tbody tr th:only-of-type {\n",
       "        vertical-align: middle;\n",
       "    }\n",
       "\n",
       "    .dataframe tbody tr th {\n",
       "        vertical-align: top;\n",
       "    }\n",
       "\n",
       "    .dataframe thead th {\n",
       "        text-align: right;\n",
       "    }\n",
       "</style>\n",
       "<table border=\"1\" class=\"dataframe\">\n",
       "  <thead>\n",
       "    <tr style=\"text-align: right;\">\n",
       "      <th></th>\n",
       "      <th>index</th>\n",
       "      <th>Fraud</th>\n",
       "      <th>Non-Fraud</th>\n",
       "    </tr>\n",
       "  </thead>\n",
       "  <tbody>\n",
       "    <tr>\n",
       "      <th>0</th>\n",
       "      <td>count</td>\n",
       "      <td>227.000000</td>\n",
       "      <td>142177.000000</td>\n",
       "    </tr>\n",
       "    <tr>\n",
       "      <th>1</th>\n",
       "      <td>mean</td>\n",
       "      <td>136.912555</td>\n",
       "      <td>87.874089</td>\n",
       "    </tr>\n",
       "    <tr>\n",
       "      <th>2</th>\n",
       "      <td>std</td>\n",
       "      <td>296.445857</td>\n",
       "      <td>248.096253</td>\n",
       "    </tr>\n",
       "    <tr>\n",
       "      <th>3</th>\n",
       "      <td>min</td>\n",
       "      <td>0.000000</td>\n",
       "      <td>0.000000</td>\n",
       "    </tr>\n",
       "    <tr>\n",
       "      <th>4</th>\n",
       "      <td>25%</td>\n",
       "      <td>1.000000</td>\n",
       "      <td>5.630000</td>\n",
       "    </tr>\n",
       "    <tr>\n",
       "      <th>5</th>\n",
       "      <td>50%</td>\n",
       "      <td>8.640000</td>\n",
       "      <td>22.000000</td>\n",
       "    </tr>\n",
       "    <tr>\n",
       "      <th>6</th>\n",
       "      <td>75%</td>\n",
       "      <td>105.350000</td>\n",
       "      <td>77.280000</td>\n",
       "    </tr>\n",
       "    <tr>\n",
       "      <th>7</th>\n",
       "      <td>max</td>\n",
       "      <td>2125.870000</td>\n",
       "      <td>19656.530000</td>\n",
       "    </tr>\n",
       "  </tbody>\n",
       "</table>\n",
       "</div>"
      ],
      "text/plain": [
       "   index        Fraud      Non-Fraud\n",
       "0  count   227.000000  142177.000000\n",
       "1   mean   136.912555      87.874089\n",
       "2    std   296.445857     248.096253\n",
       "3    min     0.000000       0.000000\n",
       "4    25%     1.000000       5.630000\n",
       "5    50%     8.640000      22.000000\n",
       "6    75%   105.350000      77.280000\n",
       "7    max  2125.870000   19656.530000"
      ]
     },
     "execution_count": 49,
     "metadata": {},
     "output_type": "execute_result"
    }
   ],
   "source": [
    "#Analyzing amount of money used in fraud and non-fraud transaction.\n",
    "#For fraud transactions.\n",
    "f=fraud.Amount.describe().reset_index()\n",
    "o=ok.Amount.describe().reset_index()\n",
    "tran=pd.merge(f,o,on='index')\n",
    "tran.rename(columns={'Amount_x':'Fraud','Amount_y':'Non-Fraud'},inplace=True)\n",
    "tran"
   ]
  },
  {
   "cell_type": "code",
   "execution_count": 42,
   "metadata": {
    "colab": {
     "base_uri": "https://localhost:8080/",
     "height": 404
    },
    "id": "fF5ZXmRtH6UL",
    "outputId": "a53e48f6-019b-4929-cfb3-eb5bd7caa8f6"
   },
   "outputs": [
    {
     "data": {
      "image/png": "[encoded data removed]",
      "text/plain": [
       "<Figure size 864x432 with 1 Axes>"
      ]
     },
     "metadata": {
      "needs_background": "light",
      "tags": []
     },
     "output_type": "display_data"
    }
   ],
   "source": [
    "gr1=df.groupby('Class')['Amount'].mean().reset_index()\n",
    "gr1['Class']=['Non-fraud' if i==0 else \"Fraud\" for i in gr1['Class']]\n",
    "clrs = ['red' if x == \"Fraud\" else 'green' for x in gr1['Class']]\n",
    "plt.figure(figsize=(12,6))\n",
    "sns.barplot(data=gr1,x='Class',y='Amount',palette=clrs)\n",
    "plt.title(\"Average transaction in each class\")\n",
    "plt.ylabel('Amount')\n",
    "plt.show()"
   ]
  },
  {
   "cell_type": "markdown",
   "metadata": {
    "id": "lopTvXpEH6UM"
   },
   "source": [
    "- From the above graphs we observe that average amount in fraud transactions is higher. Really?\n"
   ]
  },
  {
   "cell_type": "code",
   "execution_count": 43,
   "metadata": {
    "colab": {
     "base_uri": "https://localhost:8080/",
     "height": 431
    },
    "id": "btljWpQzH6UM",
    "outputId": "481d0f52-b735-49ec-fb51-35533db41352"
   },
   "outputs": [
    {
     "data": {
      "image/png": "[encoded data removed]",
      "text/plain": [
       "<Figure size 864x432 with 2 Axes>"
      ]
     },
     "metadata": {
      "needs_background": "light",
      "tags": []
     },
     "output_type": "display_data"
    }
   ],
   "source": [
    "plt.figure(figsize=(12,6))\n",
    "plt.subplot(1,2,1)\n",
    "plt.suptitle('Amount per transaction by class')\n",
    "bins = 50\n",
    "plt.hist(fraud.Amount, bins = bins,color='red')\n",
    "plt.title('Fraud')\n",
    "plt.xlabel('Amount ($)')\n",
    "plt.ylabel('Number of Transactions')\n",
    "plt.subplot(1,2,2)\n",
    "plt.hist(ok.Amount, bins = bins,color='green')\n",
    "plt.title('Non-Fraud')\n",
    "plt.xlabel('Amount ($)')\n",
    "plt.ylabel('Number of Transactions')\n",
    "plt.xlim((0, 20000))\n",
    "plt.yscale('log')\n",
    "plt.show()"
   ]
  },
  {
   "cell_type": "markdown",
   "metadata": {
    "id": "PCfYiPAuH6UN"
   },
   "source": [
    "- From the above graph we can clearly observe that fraud transaction are mostly with lesser amount except few outliers \n",
    "- Due to few outliers we in above graph saw higher mean of fraud transactions."
   ]
  },
  {
   "cell_type": "code",
   "execution_count": 44,
   "metadata": {
    "colab": {
     "base_uri": "https://localhost:8080/",
     "height": 512
    },
    "id": "k4xTq09aH6UN",
    "outputId": "fd253680-c813-48bb-e4e7-dbbe1c0bd0ba"
   },
   "outputs": [
    {
     "data": {
      "image/png": "[encoded data removed]",
      "text/plain": [
       "<Figure size 720x576 with 1 Axes>"
      ]
     },
     "metadata": {
      "needs_background": "light",
      "tags": []
     },
     "output_type": "display_data"
    }
   ],
   "source": [
    "#SalesPrice correlation with all the feature\n",
    "plt.figure(figsize=(10,8))\n",
    "c=df.corr()['Class'].sort_values().plot(kind='bar',color='green')"
   ]
  },
  {
   "cell_type": "code",
   "execution_count": 66,
   "metadata": {
    "id": "X-TfRmZjH6UO"
   },
   "outputs": [],
   "source": [
    "#Normalizing amount column:-\n",
    "from sklearn.preprocessing import StandardScaler\n",
    "sc = StandardScaler()\n",
    "df['Amount'] = sc.fit_transform(np.array(df['Amount']).reshape(-1,1))\n",
    "\n",
    "#Dropping unnecessary cols:-\n",
    "df.drop(columns='Time',inplace=True)"
   ]
  },
  {
   "cell_type": "code",
   "execution_count": 51,
   "metadata": {
    "colab": {
     "base_uri": "https://localhost:8080/",
     "height": 100
    },
    "id": "TPb-QYFnH6UO",
    "outputId": "724f11be-fbed-460e-9b10-8787649d6c98"
   },
   "outputs": [
    {
     "data": {
      "text/html": [
       "<div>\n",
       "<style scoped>\n",
       "    .dataframe tbody tr th:only-of-type {\n",
       "        vertical-align: middle;\n",
       "    }\n",
       "\n",
       "    .dataframe tbody tr th {\n",
       "        vertical-align: top;\n",
       "    }\n",
       "\n",
       "    .dataframe thead th {\n",
       "        text-align: right;\n",
       "    }\n",
       "</style>\n",
       "<table border=\"1\" class=\"dataframe\">\n",
       "  <thead>\n",
       "    <tr style=\"text-align: right;\">\n",
       "      <th></th>\n",
       "      <th>V1</th>\n",
       "      <th>V2</th>\n",
       "      <th>V3</th>\n",
       "      <th>V4</th>\n",
       "      <th>V5</th>\n",
       "      <th>V6</th>\n",
       "      <th>V7</th>\n",
       "      <th>V8</th>\n",
       "      <th>V9</th>\n",
       "      <th>V10</th>\n",
       "      <th>...</th>\n",
       "      <th>V21</th>\n",
       "      <th>V22</th>\n",
       "      <th>V23</th>\n",
       "      <th>V24</th>\n",
       "      <th>V25</th>\n",
       "      <th>V26</th>\n",
       "      <th>V27</th>\n",
       "      <th>V28</th>\n",
       "      <th>Amount</th>\n",
       "      <th>Class</th>\n",
       "    </tr>\n",
       "  </thead>\n",
       "  <tbody>\n",
       "    <tr>\n",
       "      <th>169876</th>\n",
       "      <td>-0.611712</td>\n",
       "      <td>-0.769705</td>\n",
       "      <td>-0.149759</td>\n",
       "      <td>-0.224877</td>\n",
       "      <td>2.028577</td>\n",
       "      <td>-2.019887</td>\n",
       "      <td>0.292491</td>\n",
       "      <td>-0.52302</td>\n",
       "      <td>0.358468</td>\n",
       "      <td>0.07005</td>\n",
       "      <td>...</td>\n",
       "      <td>-0.075208</td>\n",
       "      <td>0.045536</td>\n",
       "      <td>0.380739</td>\n",
       "      <td>0.02344</td>\n",
       "      <td>-2.220686</td>\n",
       "      <td>-0.201146</td>\n",
       "      <td>0.066501</td>\n",
       "      <td>0.22118</td>\n",
       "      <td>-0.347168</td>\n",
       "      <td>0</td>\n",
       "    </tr>\n",
       "  </tbody>\n",
       "</table>\n",
       "<p>1 rows × 30 columns</p>\n",
       "</div>"
      ],
      "text/plain": [
       "              V1        V2        V3        V4        V5        V6        V7  \\\n",
       "169876 -0.611712 -0.769705 -0.149759 -0.224877  2.028577 -2.019887  0.292491   \n",
       "\n",
       "             V8        V9      V10  ...       V21       V22       V23  \\\n",
       "169876 -0.52302  0.358468  0.07005  ... -0.075208  0.045536  0.380739   \n",
       "\n",
       "            V24       V25       V26       V27      V28    Amount  Class  \n",
       "169876  0.02344 -2.220686 -0.201146  0.066501  0.22118 -0.347168      0  \n",
       "\n",
       "[1 rows x 30 columns]"
      ]
     },
     "execution_count": 51,
     "metadata": {},
     "output_type": "execute_result"
    }
   ],
   "source": [
    "df.head(1)"
   ]
  },
  {
   "cell_type": "markdown",
   "metadata": {
    "id": "7mfZzBMjH6UO"
   },
   "source": [
    "## Treatment of imbalanced data:-\n",
    "### Undersampling\n",
    "     - 1) Random undersampling\n",
    "     - 2) Undersampling using Imblearn\n",
    "     - 3) NearMiss\n",
    "- Advantages:-\n",
    "Since the sample size of majority class is decreased by under sampling the training time and complexity of the model is decreased to a large extent.\n",
    "- Disadvantages:-\n",
    "Since the data points are reduced, it might happen that during the removal of data points many important points get deleted which decreases the prediction capability of the fitted model, due to poor training.\n",
    "\n",
    "### Oversampling\n",
    "    - 1) Random oversampling\n",
    "    - 2) Oversampling using Imblearn\n",
    "    - 3) SMOTE(Synthetic Minority Oversampling)\n",
    "- Advantages:-\n",
    "Since the number of data points in minority class increases there is a high possibility for the model to learn from the data points in minority class of training set.\n",
    "- Disadvantages:-\n",
    "Uncontrolled oversampling can lead to more training time and model complexity thus diminishing the predictive capability of the model."
   ]
  },
  {
   "cell_type": "code",
   "execution_count": 52,
   "metadata": {
    "id": "GoXBGms0H6UP"
   },
   "outputs": [],
   "source": [
    "# Dividing class dataset into fraud and non-fraud.\n",
    "df_fraud = df[df['Class']==1]\n",
    "df_ok = df[df['Class']==0]\n",
    "\n",
    "#Getting class count.\n",
    "ok,fraud = df['Class'].value_counts()"
   ]
  },
  {
   "cell_type": "markdown",
   "metadata": {
    "id": "bUAIfwrpH6UP"
   },
   "source": [
    "# Undersampling\n",
    "![undersampling.png](data:image/png;base64,iVBORw0KGgoAAAANSUhEUgAAATgAAACiCAMAAADiKyHJAAABDlBMVEXy8vIowOb/nk/19fU1xOc4xef39/f/pFsAAAD/oVX6+vrIyMj////28/Lw8PAswuYPveW64e4ou+Dg4OC/v7/n5+fx9vjNzc35t4nX19f8mUjR0dG0tLTq6uq8vLz/mkMtsdHz7emenp5+fn5zc3Ngyuglg5rY6e/31b9OrMX04tdZWVkooL6Q1euZmZmlpaVoaGiJiYnel2E3NzdeXl41NTVPT0+EhIQpqcknkatERERtbW0ombX4vpUWFhZ/0OgpfpP15Nmn2en3xaSxnI+dhnckJCTB4+5+x94lc4eo0+H3zbH12Mb5soH/lDTqs4znmV7wmlbhzsLHs6fJtal1g4eKoKaes7m809pMvd2ub+cPAAANCUlEQVR4nO2diWLbthmA6UCGafCwE5JmGR52SbrpqoYUF0dy5DTp3C7p1nNtt27v/yIDwJvgIcm25Ir44ii2bCnwJxw/foCQIHA4HA6Hw+FwOBwOh8PhcDgcDodzTwCQ/i1A1S8ECIR2ICQf4wVYFgCaXdEzlcovgKrr7Y+DfiD70YjNoeUMoeADghAirAHfiA7+FFc7co8hiuIS4S/xt8g/IP0G+SR4Jcc+TH8U343Qrn+TLYPmNwgtsAQnmToQxdNY9JB0NbOREzuhI8qyAb2ruY/UG+kq0G5mFoqcAN8GSyxOTvTgSoJGOA1mXW16T8nFLcQoFA1bXASip4mOLwqR+DrSxLmNgO44oi6Ir2NRjF8v5akYzz/IWNxsKs/FeCrK85kmxiNrtmgeYnGv5cUH2RItX5SRqPtEn+mLuP1ac9FHdhKKjiA68jKUo3fydCbropqJm8meiOYBaeC7/lW2C5pOZflmKeNKh8XFVFwsSrrkRqIsAFlORFeMDCLOk5cLOfogT6+wLCETF+LPoS2+SkbmTYCOGAZiLAeviThLDEPSVAMnQBGucdE0ej01xChJa9yrAHuUr8To1SvygKupvLyRHRFF8zjWRtbHCUgPQw9BJ0JaoCFnpkc2soJZhPQEAiuZRSq+03FMIbDxsIC8RJ6GSWCQB8Qx8h1kBzCch8t3YxtWhTTYIMFsGo5AGl5AAeAvQR6j4DvJBwl6Ee7jUPY5+QDIEg0YjU/cuqBZ2HAEkw/vZqNrquvDxrq40iLujcPhcDgcDofD4YwGZSV2XcrHh3L7vuAl5bbK05QX3FwT5fL02QH+08Fpyi0X10S5PDjBdIk7SOHiGLrFHZTwGseCxQ3DxbGsJu4pF9eEi9sQLm5DuLgN4eI2ZFVxAAC+OlVlRXESQRO4vQLl8uTgZLUaJ2jUHuTyCFgcZsBd3sdhexDbszq3+46IVNyAu9rgAKChS8Lo1RXiUnsriBNIzZN0deTq6uI63LHhCFYnjW2DYB3l8KQJ22jb4jigetqY1bWIY+tdewAMLX3E5pRJpaZ1metIKwHBcUfb0ymXFxcX19dfUq7rXBBoAr0rHwdxaLLd8j4alO+wtusv39R4i8lFYnM9c1Vo2SM1p7xPE+UXPSsOfZN8oI10dFXerzFzaAMY4xwiUnH98W9/Wmmk5mriutT15+OAMcbWisVNTk4G5A0kMoFmjs8cEYfpVzeUASbXAG+pvI+GTBwjrzZcnD4dSMJBc3RXfeBJ/qSkw93pU9O0NBV058+hrm633DsnF3d4eNgmL3V3+lFRDc2k+XOjXR4c21WoaVopU5fba6rD4gSa/8XOLEkyhTZ33rjM5fm4Ul2Lu1RcCpanSrrNZM/rB0TsP2UiszSXyatUuhfNDLCrMylgaBpbLPfOqWWAa+4q8k7ZHZkAMtlzOKrG2kid18wV7po1jkLUNfq6Mc29mDWHSYu7VnEkkanXkkqjioOpuEkd9o7ORKbhVXPAsOOUoH1EuSTJuFbSnBzx2imO5ICrlW5E3Zzy3TXNAH+W8XXKPwo+e/PmzUXPVlaoeZU6p42msWYZ4EpFu76+qC480DWH3kk+9IzC1nimXlkGuAaTPh/IjkCzXLIZTWMtE5k96fOhtBKsLDyMZQJRT51vlAHGALeoaGMZWRup83Z3q2xldfKKNpLGmiYyG0HwJuKgkw8L4xhZiwxwOm1oV7fS5mnoZeagPipxfcnzbPP0wAZqmM8iRtFYiwzwpKXi5e5OP0oZptabP08DulHMWYu5apnDnDD17vQjzCqcSjdQWx1rN7k56I1EXC0n0uKukQEGxJ7RtoM6NzeCBFORVqrkzpsJYDYfBwC0JF1j3UGd9nPA2vvlwmo+btKod6W4jy1bWbG7lt3neIRI/9l7cc0YrpGZo3SEI7ijY6tdHpXse2Oti5t0qOuM40i1a1wvkprb+5GVqXGMOizv4J89++Og1lAHHXq753NWLG4yaZqa5KHdIflzODnpESeQBLpe2woM6bx1z8Ng5YSkLt8WGeBGJvjrz8iG4It+cTQNXL3oITW33wkmZULzv9m285S3GXQfNdlB/WxIHL3oobLMCshOEii5D1r03aIcZgMAu3U6W7E5WO34DAAlqezqUnP73FgVJtht25G50rkjQPXKro6a2+eYRDksxs5SXdPdqge24K6uaK/E3D5vxCnF1XbZ1N1hcYNJpRRYXlRIzO3xTk3lsBaLlGHwScXd6S3dVGjbmisM5OWAW4yvAI+tRXZz71AmxY5MNqlU5OPSGqcamp1uy5QstdMeHl+z7wBnj3dq0ssuC3VsUinNxxV9XF7fDDM/2IC1B0AeD0MHd3l7OrTm16s2MyO1Du/0Jbs/Ls/LmS1nauBBws0ymgZw93NopX1crq51VyFRx4pLofta2zYF50EdxLVyPy+8yQeHDneZvC5xhExe4zyS/MpzaNto+ALDP+FBppVRlVVXuHs/tJJPzyOxa40WWjSoA5qOhi6Tc19UOTs7Uyu0/PxZnRVDpW7OhmEeUw9HWHVpmx0SRwDAxRWv0mizSRhQHcHtHSGU29MVKMvwxffff17hB8oXOX8jfLqWuB8/aeOrkm++Ysxl4qqLq80Ge3i4kjghTQlLklq4o3tdcTCnW+UOiVZxnadzVoLwogxn35w/p5x38tP3bBXp4afnQ/zUIu5ZdWtceS1+uS/z5ORZXx/XdAdwpOLm7qCB568kTYy87nMPmuLazb0sxT0/JjzpAH/nfD1x511PVXDOiru8IIkkko+rX5P/NjvfgF6Tv9bhorjDs+nyYRqRkAQxFDzN7Lx6X7ltNdWocYy4TnNPHkAcW2h6DFpjG3Dt5T/Z4FRWunyYr1tTdcjSNb3jRCYsrisv0y5u8Bc9/3w9cb2vQp+4oVd7g+Ns04E2jfDIMVYAmVLHYRvKbRkx7kxcv7tNxW141GMR4eG2KukGlLy2Rey8xvW7e0hxT46OjvvdbVmcQAcLjcqDOA6WXDN2NOYdzSo1rttdRdxXDyDuqN/dORPfbONw0bTVSraKbNPUnUgC9TfjxuIaqYWWDq8q7vk9izs+yuh0txtxBDIxs8m0Fn/4YeSpCKVDB4AgE9fv7gHFgSdHJe3utiIOdAEJrm3aUpwsl6HvWYYKrdgqxRUzP7bVPqC4s+OjGi3uNhfXaaOK4BqGplm2KZmm1IVJsPHP6J7jeHr0LpRu84xga8VjxH1y3+KOGI4b8jYW16mh7sS2LEsz6Mx8Bc+kAgKAEB1Vi4Rgh7syJDr7ZMjb2uKOWXX1itcmbuXjbFdkjRLnZUjDkUoutcVdTdxgvHrXGtd01ypuMGh/6CO7lZd5HDfpuby9Lq4/Yr0vcYW7LnED7h5cXOmnMw/dJq477Lo/cam7HnG9Ufv2xLXmUun9HeLaw641R9XWPq7K8wFxHe62Kq7d3aSrxrWHXfct7gkrbtPjbO+Rso+ruqvloQ8n1Rr3/MmAujXF0eerDAYpdKw97uzjWo+zbbjbgjhGHTPGluI+//nnn3/8K8Mvv/wr5+iHtQb3L3797du/1/i2wm+///77r2yhJ+yrzTTah34jDNXAUbPuxH6UkaQsMP/G/OePP/7474ty2YZE2SYOnws8T9dJaG3bNo4jyfrNWv+/a1iSl6KTJ6JRuk0gcalmuC67ZKS8/A7zlyZpQvN/lMvLy5bt+veJimccxB2BTizyeQf+NXRPl2yNlL7y8xjyEIxLUAdWxYYLUHu6xlN2PEahL5/uMK8ffQGx8E+3tdaZFrMoevarENrLfr/bedY3Xnn5SuV3ewHvjcdQhgHS8j3qInI4jwCaSgb0lix933F7D6w8JxAAk+TfH2AEBYh0TwYIxTZyFncyByMDP5txQ55NipA9l1Yzly4gC9ntbt4MqV6GwbfGQUskLBLpKtSC2DfhNL7TeQAo1JA/N5ZzbTbTI3nmXqFVHqZZJLfoy/gW+BDs5DAHV8L/O4pViG99SL7s/3k0l61oqTtBkCS+CWbOnXbOotBwb+Z26PjL2InkUFtJHPRipC/UeaJJiTtF7jLewX5ALUTWwgoWkrbQ5gjOwoGSo2XohaEZ3lihg5tqcnWnuAA6oRMk2iIE0cLyoDZbqe5Az5G9wJkai2USXyEo7URcIJtREBjTMArwy60OiRMQgggB8gHJ4LBS0+oG4mcjlV0gOf1VBwfoLePlwpmHcRBZcwQ8fwfijA/JTRJg4sTE3Zcxu6OJ7QGgCqG7m4GBokKyvw6Xgb9nGofD4XA4HA6Hw+H0A1QBT5rJhDm9rBXQT0m2j96z6+I9WoARap4Raaahq54mWZJpSYbuJoLquZIhmdquC/hYgUEkhbHvTaUrL4ziKA68aRTHgRwYgZ/40d0y3XsMdCI9spM4ciIzShJbl+LIs6TEk3wpkmxzX086uDt0my/dbQ6QDtN9vyQ1D2jPB7i3VeBDwZ+a/wPKY+kqiQhE/gAAAABJRU5ErkJggg==)"
   ]
  },
  {
   "cell_type": "markdown",
   "metadata": {
    "id": "gsCUvjbVH6UP"
   },
   "source": [
    "## 1) Random Undersampling"
   ]
  },
  {
   "cell_type": "code",
   "execution_count": 48,
   "metadata": {
    "colab": {
     "base_uri": "https://localhost:8080/"
    },
    "id": "qp-xjv5aH6UP",
    "outputId": "19f1c7f2-a840-4bff-b1d0-4405fbfd8122"
   },
   "outputs": [
    {
     "data": {
      "text/plain": [
       "(720, 30)"
      ]
     },
     "execution_count": 48,
     "metadata": {
      "tags": []
     },
     "output_type": "execute_result"
    }
   ],
   "source": [
    "#Undersampling\n",
    "df_ok_down = df_ok.sample(fraud)#specify the number of sample we need\n",
    "df_down = pd.concat([df_ok_down,df_fraud],axis=0)\n",
    "df_down.shape"
   ]
  },
  {
   "cell_type": "code",
   "execution_count": 49,
   "metadata": {
    "colab": {
     "base_uri": "https://localhost:8080/"
    },
    "id": "vR2-82tLH6UQ",
    "outputId": "1598689b-2a4a-49df-a6cd-cd95d0fe3200"
   },
   "outputs": [
    {
     "name": "stdout",
     "output_type": "stream",
     "text": [
      "(576, 29) (144, 29) (576,) (144,)\n"
     ]
    }
   ],
   "source": [
    "#Model building\n",
    "X=df_down.iloc[:,:-1]\n",
    "Y=df_down.iloc[:,-1]\n",
    "x_train,x_test,y_train,y_test=train_test_split(X,Y,test_size=0.2,random_state=0)\n",
    "print(x_train.shape,x_test.shape,y_train.shape,y_test.shape)"
   ]
  },
  {
   "cell_type": "code",
   "execution_count": 50,
   "metadata": {
    "colab": {
     "base_uri": "https://localhost:8080/",
     "height": 330
    },
    "id": "zEEBEVWcH6UQ",
    "outputId": "0c959c12-3548-4259-ab4a-f334dd2c3813"
   },
   "outputs": [
    {
     "name": "stdout",
     "output_type": "stream",
     "text": [
      "Precision:- 0.9710144927536232\n",
      "Recall:- 0.881578947368421\n",
      "Kappa score:- 0.8475750577367206\n"
     ]
    },
    {
     "data": {
      "image/png": "[encoded data removed]",
      "text/plain": [
       "<Figure size 432x288 with 2 Axes>"
      ]
     },
     "metadata": {
      "needs_background": "light",
      "tags": []
     },
     "output_type": "display_data"
    }
   ],
   "source": [
    "#KNN Score\n",
    "\n",
    "knn = KNeighborsClassifier(n_neighbors=3)\n",
    "kpred=knn.fit(x_train,y_train)\n",
    "y_pred=knn.predict(x_test)\n",
    "\n",
    "#Confusion Matrix and precision\n",
    "mylabels=['Ok','Fraud']\n",
    "P_knn_rdown=metrics.precision_score(y_test,y_pred)\n",
    "R_knn_rdown=metrics.recall_score(y_test,y_pred)\n",
    "k_knn_rdown = cohen_kappa_score(y_test, y_pred)\n",
    "c_knn_rdown=sklearn.metrics.classification_report(y_test,y_pred,target_names=mylabels)\n",
    "\n",
    "sklearn.metrics.plot_confusion_matrix(kpred,x_test,y_test,display_labels=mylabels)\n",
    "print(\"Precision:-\",P_knn_rdown)\n",
    "print(\"Recall:-\",R_knn_rdown)\n",
    "print(\"Kappa score:-\",k_knn_rdown)"
   ]
  },
  {
   "cell_type": "markdown",
   "metadata": {},
   "source": [
    "- Here in confusion matrix we can observe:-\n",
    "    - The upper right box is type 1 error(False +ve) i.e. transaction which were valid but predicted fraud which are 2.\n",
    "    - The lower left box is type 2 error(False -ve) i.e. transaction which were fraud but predicted valid which are 9.\n",
    "- In this problem statement our goal is to reduce type 2 error i.e falsely predicted fraud tran. as valid.\n",
    "- Hence we need to focus on increasing recall value which is TP/TP+FN.\n",
    "    "
   ]
  },
  {
   "cell_type": "code",
   "execution_count": 51,
   "metadata": {
    "colab": {
     "base_uri": "https://localhost:8080/",
     "height": 330
    },
    "id": "RpVazRS9H6UR",
    "outputId": "7ab0e997-5fed-477c-ffab-b5c594af628c"
   },
   "outputs": [
    {
     "name": "stdout",
     "output_type": "stream",
     "text": [
      "Precision:- 0.971830985915493\n",
      "Recall:- 0.9078947368421053\n",
      "Kappa score:- 0.8750963762528913\n"
     ]
    },
    {
     "data": {
      "image/png": "[encoded data removed]",
      "text/plain": [
       "<Figure size 432x288 with 2 Axes>"
      ]
     },
     "metadata": {
      "needs_background": "light",
      "tags": []
     },
     "output_type": "display_data"
    }
   ],
   "source": [
    "#Logistic regression\n",
    "\n",
    "log = LogisticRegression()\n",
    "pred=log.fit(x_train,y_train)\n",
    "y_pred=log.predict(x_test)\n",
    "\n",
    "#Confusion Matrix and precision\n",
    "P_log_rdown=metrics.precision_score(y_test,y_pred)\n",
    "R_log_rdown=metrics.recall_score(y_test,y_pred)\n",
    "k_log_rdown=cohen_kappa_score(y_test, y_pred)\n",
    "c_log_rdown=sklearn.metrics.classification_report(y_test,y_pred,target_names=mylabels)\n",
    "\n",
    "sklearn.metrics.plot_confusion_matrix(pred,x_test,y_test,display_labels=mylabels,cmap=plt.cm.Blues)\n",
    "print(\"Precision:-\",P_log_rdown)\n",
    "print(\"Recall:-\",R_log_rdown)\n",
    "print(\"Kappa score:-\",k_log_rdown)"
   ]
  },
  {
   "cell_type": "markdown",
   "metadata": {
    "id": "K9udhIHMH6US"
   },
   "source": [
    "## 2) Undersampling using imblearn"
   ]
  },
  {
   "cell_type": "code",
   "execution_count": 52,
   "metadata": {
    "colab": {
     "base_uri": "https://localhost:8080/"
    },
    "id": "eJX78jPoH6US",
    "outputId": "952365b0-5425-4a6f-f8e6-e11379af57b2"
   },
   "outputs": [
    {
     "name": "stdout",
     "output_type": "stream",
     "text": [
      "(720, 29) (720,)\n"
     ]
    },
    {
     "name": "stderr",
     "output_type": "stream",
     "text": [
      "/usr/local/lib/python3.7/dist-packages/sklearn/utils/deprecation.py:87: FutureWarning: Function safe_indexing is deprecated; safe_indexing is deprecated in version 0.22 and will be removed in version 0.24.\n",
      "  warnings.warn(msg, category=FutureWarning)\n"
     ]
    }
   ],
   "source": [
    "import imblearn\n",
    "from imblearn.under_sampling import RandomUnderSampler\n",
    "rus = RandomUnderSampler(random_state=42, replacement=True)\n",
    "X=df.iloc[:,:-1]\n",
    "Y=df.iloc[:,-1]\n",
    "x_rus, y_rus = rus.fit_resample(X, Y)\n",
    "print(x_rus.shape,y_rus.shape)"
   ]
  },
  {
   "cell_type": "code",
   "execution_count": 53,
   "metadata": {
    "colab": {
     "base_uri": "https://localhost:8080/"
    },
    "id": "VmJrrRyDH6US",
    "outputId": "02bfb71e-07fb-4e69-f0f0-deebce700a47",
    "scrolled": true
   },
   "outputs": [
    {
     "name": "stdout",
     "output_type": "stream",
     "text": [
      "(576, 29) (144, 29) (576,) (144,)\n"
     ]
    }
   ],
   "source": [
    "#Splitting\n",
    "x_train,x_test,y_train,y_test=train_test_split(x_rus,y_rus,test_size=0.2,random_state=0)\n",
    "print(x_train.shape,x_test.shape,y_train.shape,y_test.shape)"
   ]
  },
  {
   "cell_type": "code",
   "execution_count": 54,
   "metadata": {
    "colab": {
     "base_uri": "https://localhost:8080/",
     "height": 330
    },
    "id": "JV8UJ23GH6US",
    "outputId": "60a22665-c1f2-4c3b-b5a0-2ece5d2e943e"
   },
   "outputs": [
    {
     "name": "stdout",
     "output_type": "stream",
     "text": [
      "Precision:- 0.935064935064935\n",
      "Recall:- 0.9473684210526315\n",
      "Kappa score:- 0.8745158791634392\n"
     ]
    },
    {
     "data": {
      "image/png": "[encoded data removed]",
      "text/plain": [
       "<Figure size 432x288 with 2 Axes>"
      ]
     },
     "metadata": {
      "needs_background": "light",
      "tags": []
     },
     "output_type": "display_data"
    }
   ],
   "source": [
    "#KNN Score\n",
    "knn = KNeighborsClassifier(n_neighbors=3)\n",
    "kpred=knn.fit(x_train,y_train)\n",
    "y_pred=knn.predict(x_test)\n",
    "\n",
    "#Confusion Matrix and precision\n",
    "P_knn_rup=metrics.precision_score(y_test,y_pred)\n",
    "R_knn_rup=metrics.recall_score(y_test,y_pred)\n",
    "k_knn_rup = cohen_kappa_score(y_test, y_pred)\n",
    "c_knn_idown=sklearn.metrics.classification_report(y_test,y_pred,target_names=mylabels)\n",
    "\n",
    "sklearn.metrics.plot_confusion_matrix(kpred,x_test,y_test,display_labels=mylabels)\n",
    "print(\"Precision:-\",P_knn_rup)\n",
    "print(\"Recall:-\",R_knn_rup)\n",
    "print(\"Kappa score:-\",k_knn_rup)"
   ]
  },
  {
   "cell_type": "code",
   "execution_count": 55,
   "metadata": {
    "colab": {
     "base_uri": "https://localhost:8080/",
     "height": 330
    },
    "id": "FXZC9kPZH6UT",
    "outputId": "f6707c6a-ac9e-4bf7-e79b-03f109f6df80"
   },
   "outputs": [
    {
     "name": "stdout",
     "output_type": "stream",
     "text": [
      "Precision:- 0.9605263157894737\n",
      "Recall:- 0.9605263157894737\n",
      "Kappa score:- 0.9164086687306502\n"
     ]
    },
    {
     "data": {
      "image/png": "[encoded data removed]",
      "text/plain": [
       "<Figure size 432x288 with 2 Axes>"
      ]
     },
     "metadata": {
      "needs_background": "light",
      "tags": []
     },
     "output_type": "display_data"
    }
   ],
   "source": [
    "#Logistic regression\n",
    "log = LogisticRegression()\n",
    "pred=log.fit(x_train,y_train)\n",
    "y_pred=log.predict(x_test)\n",
    "\n",
    "#Confusion Matrix and precision\n",
    "P_log_rup=metrics.precision_score(y_test,y_pred)\n",
    "R_log_rup=metrics.recall_score(y_test,y_pred)\n",
    "k_log_rup=cohen_kappa_score(y_test, y_pred)\n",
    "c_log_idown=sklearn.metrics.classification_report(y_test,y_pred,target_names=mylabels)\n",
    "\n",
    "sklearn.metrics.plot_confusion_matrix(pred,x_test,y_test,display_labels=mylabels,cmap=plt.cm.Blues)\n",
    "print(\"Precision:-\",P_log_rup)\n",
    "print(\"Recall:-\",R_log_rup)\n",
    "print(\"Kappa score:-\",k_log_rup)"
   ]
  },
  {
   "cell_type": "markdown",
   "metadata": {
    "id": "JX5x73WIH6UT"
   },
   "source": [
    "## 3)Near Miss\n",
    "![nearmiss.png](data:image/png;base64,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)\n",
    "- It first finds the distances between all instances of the majority class and the instances of the minority class.\n",
    "- Then, n instances of the majority class that have the smallest distances to those in the minority class are selected.\n",
    "- If there are k instances in the minority class, the nearest method will result in k*n instances of the majority class.\n",
    "    - Version 1: In the first version, the data is balanced by calculating the average minimum distance between the larger distribution and three closest smaller distributions.\n",
    "\n",
    "    - Version 2: Here, the data is balanced by calculating the average minimum distance between the larger distribution and three furthest smaller distributions. \n",
    "\n",
    "    - Version 3: Here, the smaller class instances are considered and m neighbours are stored. Then the distance between this and the larger distribution is taken and the largest distance is eliminated.\n",
    "\n",
    "Default is version 1."
   ]
  },
  {
   "cell_type": "code",
   "execution_count": 56,
   "metadata": {
    "colab": {
     "base_uri": "https://localhost:8080/"
    },
    "id": "O4sw5dE7H6UW",
    "outputId": "274b0daa-072c-4a1a-d355-87f81d8430cc"
   },
   "outputs": [
    {
     "name": "stdout",
     "output_type": "stream",
     "text": [
      "(720, 29) (720,)\n"
     ]
    },
    {
     "name": "stderr",
     "output_type": "stream",
     "text": [
      "/usr/local/lib/python3.7/dist-packages/sklearn/utils/deprecation.py:87: FutureWarning: Function safe_indexing is deprecated; safe_indexing is deprecated in version 0.22 and will be removed in version 0.24.\n",
      "  warnings.warn(msg, category=FutureWarning)\n",
      "/usr/local/lib/python3.7/dist-packages/sklearn/utils/deprecation.py:87: FutureWarning: Function safe_indexing is deprecated; safe_indexing is deprecated in version 0.22 and will be removed in version 0.24.\n",
      "  warnings.warn(msg, category=FutureWarning)\n",
      "/usr/local/lib/python3.7/dist-packages/sklearn/utils/deprecation.py:87: FutureWarning: Function safe_indexing is deprecated; safe_indexing is deprecated in version 0.22 and will be removed in version 0.24.\n",
      "  warnings.warn(msg, category=FutureWarning)\n"
     ]
    }
   ],
   "source": [
    "from imblearn.under_sampling import NearMiss\n",
    "nm = NearMiss()\n",
    "x_nm, y_nm = nm.fit_resample(X, Y)\n",
    "print(x_nm.shape,y_nm.shape)"
   ]
  },
  {
   "cell_type": "code",
   "execution_count": 57,
   "metadata": {
    "colab": {
     "base_uri": "https://localhost:8080/"
    },
    "id": "w_AaH6A6H6UX",
    "outputId": "9ba7c815-5091-413e-991c-70d677942113"
   },
   "outputs": [
    {
     "name": "stdout",
     "output_type": "stream",
     "text": [
      "(576, 29) (144, 29) (576,) (144,)\n"
     ]
    }
   ],
   "source": [
    "#Splitting\n",
    "x_train,x_test,y_train,y_test=train_test_split(x_nm,y_nm,test_size=0.2,random_state=0)\n",
    "print(x_train.shape,x_test.shape,y_train.shape,y_test.shape)"
   ]
  },
  {
   "cell_type": "code",
   "execution_count": 58,
   "metadata": {
    "colab": {
     "base_uri": "https://localhost:8080/",
     "height": 330
    },
    "id": "0wNyx9sHH6UY",
    "outputId": "09ecf56a-0845-4361-f088-4cfb56eceae4"
   },
   "outputs": [
    {
     "name": "stdout",
     "output_type": "stream",
     "text": [
      "Precision:- 0.9710144927536232\n",
      "Recall:- 0.881578947368421\n",
      "Kappa score:- 0.8475750577367206\n"
     ]
    },
    {
     "data": {
      "image/png": "[encoded data removed]",
      "text/plain": [
       "<Figure size 432x288 with 2 Axes>"
      ]
     },
     "metadata": {
      "needs_background": "light",
      "tags": []
     },
     "output_type": "display_data"
    }
   ],
   "source": [
    "#KNN Score\n",
    "knn = KNeighborsClassifier(n_neighbors=3)\n",
    "kpred=knn.fit(x_train,y_train)\n",
    "y_pred=knn.predict(x_test)\n",
    "\n",
    "#Confusion Matrix and precision\n",
    "P_knn_nm=metrics.precision_score(y_test,y_pred)\n",
    "R_knn_nm=metrics.recall_score(y_test,y_pred)\n",
    "k_knn_nm=cohen_kappa_score(y_test, y_pred)\n",
    "c_knn_nm=sklearn.metrics.classification_report(y_test,y_pred,target_names=mylabels)\n",
    "\n",
    "sklearn.metrics.plot_confusion_matrix(kpred,x_test,y_test,display_labels=mylabels)\n",
    "print(\"Precision:-\",P_knn_nm)\n",
    "print(\"Recall:-\",R_knn_nm)\n",
    "print(\"Kappa score:-\",k_knn_nm)"
   ]
  },
  {
   "cell_type": "code",
   "execution_count": 59,
   "metadata": {
    "colab": {
     "base_uri": "https://localhost:8080/",
     "height": 330
    },
    "id": "xg1S5_iaH6UY",
    "outputId": "1ac4b58e-458b-477a-c50e-3ee242ef354a"
   },
   "outputs": [
    {
     "name": "stdout",
     "output_type": "stream",
     "text": [
      "Precision:- 0.9714285714285714\n",
      "Recall:- 0.8947368421052632\n",
      "Kappa score:- 0.8613251155624038\n"
     ]
    },
    {
     "data": {
      "image/png": "[encoded data removed]",
      "text/plain": [
       "<Figure size 432x288 with 2 Axes>"
      ]
     },
     "metadata": {
      "needs_background": "light",
      "tags": []
     },
     "output_type": "display_data"
    }
   ],
   "source": [
    "#Logistic regression\n",
    "log = LogisticRegression()\n",
    "pred=log.fit(x_train,y_train)\n",
    "y_pred=log.predict(x_test)\n",
    "\n",
    "#Confusion Matrix and precision\n",
    "P_log_nm=metrics.precision_score(y_test,y_pred)\n",
    "R_log_nm=metrics.recall_score(y_test,y_pred)\n",
    "k_log_nm=cohen_kappa_score(y_test, y_pred)\n",
    "c_log_nm=sklearn.metrics.classification_report(y_test,y_pred,target_names=mylabels)\n",
    "\n",
    "sklearn.metrics.plot_confusion_matrix(pred,x_test,y_test,display_labels=mylabels,cmap=plt.cm.Blues)\n",
    "print(\"Precision:-\",P_log_nm)\n",
    "print(\"Recall:-\",R_log_nm)\n",
    "print(\"Kappa score:-\",k_log_nm)"
   ]
  },
  {
   "cell_type": "markdown",
   "metadata": {
    "id": "v1DFzTpxH6UZ"
   },
   "source": [
    "## Overview of performances of models after Undersampling with different methods:-"
   ]
  },
  {
   "cell_type": "code",
   "execution_count": 60,
   "metadata": {
    "colab": {
     "base_uri": "https://localhost:8080/"
    },
    "id": "V_9bw16TH6UZ",
    "outputId": "f4b18af3-1d72-4ef0-99a5-846670477532"
   },
   "outputs": [
    {
     "name": "stdout",
     "output_type": "stream",
     "text": [
      "KNN Random under:-\n",
      "\n",
      "               precision    recall  f1-score   support\n",
      "\n",
      "          Ok       0.88      0.97      0.92        68\n",
      "       Fraud       0.97      0.88      0.92        76\n",
      "\n",
      "    accuracy                           0.92       144\n",
      "   macro avg       0.93      0.93      0.92       144\n",
      "weighted avg       0.93      0.92      0.92       144\n",
      " \n",
      " Logistic Random under:-\n",
      "\n",
      "               precision    recall  f1-score   support\n",
      "\n",
      "          Ok       0.90      0.97      0.94        68\n",
      "       Fraud       0.97      0.91      0.94        76\n",
      "\n",
      "    accuracy                           0.94       144\n",
      "   macro avg       0.94      0.94      0.94       144\n",
      "weighted avg       0.94      0.94      0.94       144\n",
      " \n",
      " KNN Imblearn under:-\n",
      "\n",
      "               precision    recall  f1-score   support\n",
      "\n",
      "          Ok       0.94      0.93      0.93        68\n",
      "       Fraud       0.94      0.95      0.94        76\n",
      "\n",
      "    accuracy                           0.94       144\n",
      "   macro avg       0.94      0.94      0.94       144\n",
      "weighted avg       0.94      0.94      0.94       144\n",
      " \n",
      " Logistic Imblearn under:-\n",
      "\n",
      "               precision    recall  f1-score   support\n",
      "\n",
      "          Ok       0.96      0.96      0.96        68\n",
      "       Fraud       0.96      0.96      0.96        76\n",
      "\n",
      "    accuracy                           0.96       144\n",
      "   macro avg       0.96      0.96      0.96       144\n",
      "weighted avg       0.96      0.96      0.96       144\n",
      " \n",
      " KNN NearMiss:-\n",
      "\n",
      "               precision    recall  f1-score   support\n",
      "\n",
      "          Ok       0.88      0.97      0.92        68\n",
      "       Fraud       0.97      0.88      0.92        76\n",
      "\n",
      "    accuracy                           0.92       144\n",
      "   macro avg       0.93      0.93      0.92       144\n",
      "weighted avg       0.93      0.92      0.92       144\n",
      " \n",
      " Logistic NearMiss:-\n",
      "\n",
      "               precision    recall  f1-score   support\n",
      "\n",
      "          Ok       0.89      0.97      0.93        68\n",
      "       Fraud       0.97      0.89      0.93        76\n",
      "\n",
      "    accuracy                           0.93       144\n",
      "   macro avg       0.93      0.93      0.93       144\n",
      "weighted avg       0.93      0.93      0.93       144\n",
      "\n"
     ]
    }
   ],
   "source": [
    "print('KNN Random under:-\\n\\n',c_knn_rdown,'\\n',\n",
    "      'Logistic Random under:-\\n\\n',c_log_rdown,'\\n',\n",
    "      'KNN Imblearn under:-\\n\\n',c_knn_idown,'\\n', \n",
    "      'Logistic Imblearn under:-\\n\\n',c_log_idown,'\\n',\n",
    "      'KNN NearMiss:-\\n\\n',c_knn_nm,'\\n',\n",
    "      'Logistic NearMiss:-\\n\\n',c_log_nm)"
   ]
  },
  {
   "cell_type": "markdown",
   "metadata": {
    "id": "yzcBBAoxH6UZ"
   },
   "source": [
    "# Oversampling\n",
    "![oversampling.png](data:image/png;base64,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)"
   ]
  },
  {
   "cell_type": "markdown",
   "metadata": {
    "id": "uIYbW_E7H6Ua"
   },
   "source": [
    "## 1) Random Oversampling"
   ]
  },
  {
   "cell_type": "code",
   "execution_count": 40,
   "metadata": {
    "colab": {
     "base_uri": "https://localhost:8080/"
    },
    "id": "7whsfH7AH6Ua",
    "outputId": "d3265f31-4c4e-468b-9969-3b5892a05e26"
   },
   "outputs": [
    {
     "data": {
      "text/plain": [
       "(568630, 30)"
      ]
     },
     "execution_count": 40,
     "metadata": {},
     "output_type": "execute_result"
    }
   ],
   "source": [
    "#Oversampling\n",
    "df_fraud_up = df_fraud.sample(ok,replace=True)#specify the number of sample we need\n",
    "df_up = pd.concat([df_fraud_up,df_ok],axis=0)\n",
    "df_up.shape"
   ]
  },
  {
   "cell_type": "code",
   "execution_count": 41,
   "metadata": {
    "colab": {
     "base_uri": "https://localhost:8080/"
    },
    "id": "B-iQX4OMH6Ua",
    "outputId": "b422555c-91ac-449e-9b2e-2568cd1f208d"
   },
   "outputs": [
    {
     "name": "stdout",
     "output_type": "stream",
     "text": [
      "(45490, 29) (11373, 29) (45490,) (11373,)\n"
     ]
    }
   ],
   "source": [
    "#Model building\n",
    "#Dataset is too big to haldle by my local system so taking a sample of it.\n",
    "df_up= df_up.sample(frac = 0.1,random_state=1)\n",
    "X=df_up.iloc[:,:-1]\n",
    "Y=df_up.iloc[:,-1]\n",
    "x_train,x_test,y_train,y_test=train_test_split(X,Y,test_size=0.2,random_state=0)\n",
    "print(x_train.shape,x_test.shape,y_train.shape,y_test.shape)"
   ]
  },
  {
   "cell_type": "code",
   "execution_count": 44,
   "metadata": {
    "colab": {
     "base_uri": "https://localhost:8080/",
     "height": 330
    },
    "id": "xYPdAE5lH6Ub",
    "outputId": "15ba4ed6-ca52-4523-96a1-4c0413a8ac46"
   },
   "outputs": [
    {
     "name": "stdout",
     "output_type": "stream",
     "text": [
      "Precision:- 0.9950885809507104\n",
      "Recall:- 1.0\n"
     ]
    },
    {
     "data": {
      "text/plain": [
       "<sklearn.metrics._plot.confusion_matrix.ConfusionMatrixDisplay at 0x20b83c88ef0>"
      ]
     },
     "execution_count": 44,
     "metadata": {},
     "output_type": "execute_result"
    },
    {
     "data": {
      "image/png": "[encoded data removed]",
      "text/plain": [
       "<Figure size 432x288 with 2 Axes>"
      ]
     },
     "metadata": {
      "needs_background": "light"
     },
     "output_type": "display_data"
    }
   ],
   "source": [
    "#KNN Score\n",
    "knn = KNeighborsClassifier(n_neighbors=3)\n",
    "kpred=knn.fit(x_train,y_train)\n",
    "y_pred=knn.predict(x_test)\n",
    "\n",
    "#Confusion Matrix and precision\n",
    "P_knn_rup =metrics.precision_score(y_test,y_pred)\n",
    "R_knn_rup=metrics.recall_score(y_test,y_pred)\n",
    "c_knn_rup =sklearn.metrics.classification_report(y_test,y_pred)\n",
    "\n",
    "print(\"Precision:-\",P_knn_rup)\n",
    "print(\"Recall:-\",R_knn_rup) \n",
    "sklearn.metrics.plot_confusion_matrix(kpred,x_test,y_test,display_labels=mylabels,cmap=plt.cm.Blues)"
   ]
  },
  {
   "cell_type": "code",
   "execution_count": 45,
   "metadata": {
    "colab": {
     "base_uri": "https://localhost:8080/",
     "height": 330
    },
    "id": "vp7EThsmH6Ub",
    "outputId": "e50b47bb-0f23-4e03-baa4-78cce2ca2ead"
   },
   "outputs": [
    {
     "name": "stdout",
     "output_type": "stream",
     "text": [
      "Precision score:- 0.9724958186210741\n",
      "Recall:- 0.9224396263000176\n"
     ]
    },
    {
     "data": {
      "text/plain": [
       "<sklearn.metrics._plot.confusion_matrix.ConfusionMatrixDisplay at 0x20b82075860>"
      ]
     },
     "execution_count": 45,
     "metadata": {},
     "output_type": "execute_result"
    },
    {
     "data": {
      "image/png": "[encoded data removed]",
      "text/plain": [
       "<Figure size 432x288 with 2 Axes>"
      ]
     },
     "metadata": {
      "needs_background": "light"
     },
     "output_type": "display_data"
    }
   ],
   "source": [
    "#Logistic regression\n",
    "log = LogisticRegression()\n",
    "pred=log.fit(x_train,y_train)\n",
    "y_pred=log.predict(x_test)\n",
    "\n",
    "#Confusion Matrix and precision\n",
    "R_log_rup=metrics.recall_score(y_test,y_pred)\n",
    "P_log_rup=metrics.precision_score(y_test,y_pred)\n",
    "c_log_rup =sklearn.metrics.classification_report(y_test,y_pred)\n",
    "\n",
    "print(\"Precision score:-\",P_log_rup)\n",
    "print(\"Recall:-\",R_log_rup)                                   \n",
    "sklearn.metrics.plot_confusion_matrix(pred,x_test,y_test,display_labels=mylabels)"
   ]
  },
  {
   "cell_type": "markdown",
   "metadata": {
    "id": "H2fWNEEIH6Uc"
   },
   "source": [
    "## 4)Upsampling using imblearn"
   ]
  },
  {
   "cell_type": "code",
   "execution_count": 54,
   "metadata": {
    "colab": {
     "base_uri": "https://localhost:8080/"
    },
    "id": "UGevsD8eH6Uc",
    "outputId": "16e5b4fd-c4ee-4810-d830-f306b5da2f19"
   },
   "outputs": [
    {
     "name": "stdout",
     "output_type": "stream",
     "text": [
      "(14216, 29) (14216,)\n"
     ]
    }
   ],
   "source": [
    "from imblearn.over_sampling import RandomOverSampler\n",
    "ros = RandomOverSampler(random_state=42)\n",
    "df=df.sample(frac = 0.1,random_state=1)\n",
    "X=df.iloc[:,:-1]\n",
    "Y=df.iloc[:,-1]\n",
    "x_ros, y_ros = ros.fit_resample(X,Y)\n",
    "print(x_ros.shape,y_ros.shape)"
   ]
  },
  {
   "cell_type": "code",
   "execution_count": 55,
   "metadata": {
    "colab": {
     "base_uri": "https://localhost:8080/"
    },
    "id": "M9D33doWH6Ud",
    "outputId": "06e78a42-8c92-4f0a-e9fd-38bab45b15be"
   },
   "outputs": [
    {
     "name": "stdout",
     "output_type": "stream",
     "text": [
      "(11372, 29) (2844, 29) (11372,) (2844,)\n"
     ]
    }
   ],
   "source": [
    "#Splitting\n",
    "x_train,x_test,y_train,y_test=train_test_split(x_ros,y_ros,test_size=0.2,random_state=0)\n",
    "print(x_train.shape,x_test.shape,y_train.shape,y_test.shape)"
   ]
  },
  {
   "cell_type": "code",
   "execution_count": 56,
   "metadata": {
    "colab": {
     "base_uri": "https://localhost:8080/",
     "height": 330
    },
    "id": "0IiRf6_UH6Ud",
    "outputId": "0b5b8eeb-525f-409c-d6f8-8707d3dff165"
   },
   "outputs": [
    {
     "name": "stdout",
     "output_type": "stream",
     "text": [
      "Precision 0.9986168741355463\n",
      "Recall:- 1.0\n"
     ]
    },
    {
     "data": {
      "text/plain": [
       "<sklearn.metrics._plot.confusion_matrix.ConfusionMatrixDisplay at 0x20b83c8d7f0>"
      ]
     },
     "execution_count": 56,
     "metadata": {},
     "output_type": "execute_result"
    },
    {
     "data": {
      "image/png": "[encoded data removed]",
      "text/plain": [
       "<Figure size 432x288 with 2 Axes>"
      ]
     },
     "metadata": {
      "needs_background": "light"
     },
     "output_type": "display_data"
    }
   ],
   "source": [
    "#KNN Score\n",
    "knn = KNeighborsClassifier(n_neighbors=3)\n",
    "kpred=knn.fit(x_train,y_train)\n",
    "y_pred=knn.predict(x_test)\n",
    "\n",
    "#Confusion Matrix and precision\n",
    "P_knn_imbup=metrics.precision_score(y_test,y_pred)\n",
    "R_knn_imbup=metrics.recall_score(y_test,y_pred)\n",
    "c_knn_imbup =sklearn.metrics.classification_report(y_test,y_pred)\n",
    "\n",
    "print(\"Precision\",P_knn_imbup)\n",
    "print(\"Recall:-\",R_knn_imbup)\n",
    "sklearn.metrics.plot_confusion_matrix(kpred,x_test,y_test,display_labels=mylabels,cmap=plt.cm.Blues)"
   ]
  },
  {
   "cell_type": "code",
   "execution_count": 57,
   "metadata": {
    "colab": {
     "base_uri": "https://localhost:8080/",
     "height": 330
    },
    "id": "z_MVZtpeH6Ud",
    "outputId": "b316d555-049b-4ab3-a64d-0b42876c3f82"
   },
   "outputs": [
    {
     "name": "stdout",
     "output_type": "stream",
     "text": [
      "Precision score:- 0.9972375690607734\n",
      "Recall:- 1.0\n"
     ]
    },
    {
     "data": {
      "text/plain": [
       "<sklearn.metrics._plot.confusion_matrix.ConfusionMatrixDisplay at 0x20b82777ba8>"
      ]
     },
     "execution_count": 57,
     "metadata": {},
     "output_type": "execute_result"
    },
    {
     "data": {
      "image/png": "[encoded data removed]",
      "text/plain": [
       "<Figure size 432x288 with 2 Axes>"
      ]
     },
     "metadata": {
      "needs_background": "light"
     },
     "output_type": "display_data"
    }
   ],
   "source": [
    "#Logistic regression\n",
    "log = LogisticRegression()\n",
    "pred=log.fit(x_train,y_train)\n",
    "y_pred=log.predict(x_test)\n",
    "\n",
    "#Confusion Matrix and precision\n",
    "P_log_imbup=metrics.precision_score(y_test,y_pred)\n",
    "R_log_imbup=metrics.recall_score(y_test,y_pred)\n",
    "c_log_imbup =sklearn.metrics.classification_report(y_test,y_pred)\n",
    "\n",
    "print(\"Precision score:-\",P_log_imbup)\n",
    "print(\"Recall:-\",R_log_imbup)\n",
    "sklearn.metrics.plot_confusion_matrix(pred,x_test,y_test,display_labels=mylabels)"
   ]
  },
  {
   "cell_type": "markdown",
   "metadata": {
    "id": "RIz_NVifH6Ue"
   },
   "source": [
    "## 5) SMOTE(Synthetic Minority Oversampling)\n",
    "![smote.png](data:image/png;base64,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)\n",
    "- It uses KNN algorithm\n",
    "- It chooses a minority class as the input vector\n",
    "- It then finds its k nearest neighbors specified in a argument in the SMOTE() function\n",
    "- Chooses one of these neighbors and place a synthetic point anywhere on the line joining the point under consideration and its chosen neighbor\n",
    "- Repeats the steps until data is balanced\""
   ]
  },
  {
   "cell_type": "code",
   "execution_count": 58,
   "metadata": {
    "colab": {
     "base_uri": "https://localhost:8080/"
    },
    "id": "FlBcVpRgH6Ue",
    "outputId": "c0bec7e1-ccd9-4cf4-f53a-a631c5756bcf"
   },
   "outputs": [
    {
     "name": "stdout",
     "output_type": "stream",
     "text": [
      "(14216, 29) (14216,)\n"
     ]
    }
   ],
   "source": [
    "from imblearn.over_sampling import SMOTE\n",
    "smote = SMOTE()\n",
    "x_smote , y_smote = smote.fit_resample(X,Y)\n",
    "print(x_smote.shape,y_smote.shape)"
   ]
  },
  {
   "cell_type": "code",
   "execution_count": 59,
   "metadata": {
    "colab": {
     "base_uri": "https://localhost:8080/"
    },
    "id": "CKna39UJH6Ue",
    "outputId": "fa893a71-0ea2-4e1e-eeb7-d241521845a3"
   },
   "outputs": [
    {
     "name": "stdout",
     "output_type": "stream",
     "text": [
      "(11372, 29) (2844, 29) (11372,) (2844,)\n"
     ]
    }
   ],
   "source": [
    "#Splitting\n",
    "x_train,x_test,y_train,y_test=train_test_split(x_smote,y_smote,test_size=0.2,random_state=0)\n",
    "print(x_train.shape,x_test.shape,y_train.shape,y_test.shape)"
   ]
  },
  {
   "cell_type": "code",
   "execution_count": 60,
   "metadata": {
    "colab": {
     "base_uri": "https://localhost:8080/",
     "height": 330
    },
    "id": "WTZKBHTKH6Uf",
    "outputId": "bf48cf77-1ac5-478c-c4ab-f64cdd9a58ea"
   },
   "outputs": [
    {
     "name": "stdout",
     "output_type": "stream",
     "text": [
      "Precision 0.9986168741355463\n",
      "Recall:- 1.0\n"
     ]
    },
    {
     "data": {
      "text/plain": [
       "<sklearn.metrics._plot.confusion_matrix.ConfusionMatrixDisplay at 0x20b826cd588>"
      ]
     },
     "execution_count": 60,
     "metadata": {},
     "output_type": "execute_result"
    },
    {
     "data": {
      "image/png": "[encoded data removed]",
      "text/plain": [
       "<Figure size 432x288 with 2 Axes>"
      ]
     },
     "metadata": {
      "needs_background": "light"
     },
     "output_type": "display_data"
    }
   ],
   "source": [
    "#KNN Score\n",
    "knn = KNeighborsClassifier(n_neighbors=3)\n",
    "kpred=knn.fit(x_train,y_train)\n",
    "y_pred=knn.predict(x_test)\n",
    "\n",
    "#Confusion Matrix and precision\n",
    "P_knn_smo=metrics.precision_score(y_test,y_pred)\n",
    "R_knn_smo=metrics.recall_score(y_test,y_pred)\n",
    "c_knn_smo =sklearn.metrics.classification_report(y_test,y_pred)\n",
    "\n",
    "print(\"Precision\",P_knn_smo)\n",
    "print(\"Recall:-\",R_knn_smo)\n",
    "sklearn.metrics.plot_confusion_matrix(kpred,x_test,y_test,display_labels=mylabels,cmap=plt.cm.Blues)"
   ]
  },
  {
   "cell_type": "code",
   "execution_count": 61,
   "metadata": {
    "colab": {
     "base_uri": "https://localhost:8080/",
     "height": 330
    },
    "id": "-5e3WET9H6Uf",
    "outputId": "61d54806-2372-42b7-9acf-e1165d0e7ac0"
   },
   "outputs": [
    {
     "name": "stdout",
     "output_type": "stream",
     "text": [
      "Precision score:- 0.9979267449896337\n",
      "Recall:- 1.0\n"
     ]
    },
    {
     "data": {
      "text/plain": [
       "<sklearn.metrics._plot.confusion_matrix.ConfusionMatrixDisplay at 0x20b82d7d6d8>"
      ]
     },
     "execution_count": 61,
     "metadata": {},
     "output_type": "execute_result"
    },
    {
     "data": {
      "image/png": "[encoded data removed]",
      "text/plain": [
       "<Figure size 432x288 with 2 Axes>"
      ]
     },
     "metadata": {
      "needs_background": "light"
     },
     "output_type": "display_data"
    }
   ],
   "source": [
    "#Logistic regression\n",
    "log = LogisticRegression()\n",
    "pred=log.fit(x_train,y_train)\n",
    "y_pred=log.predict(x_test)\n",
    "\n",
    "#Confusion Matrix and precision\n",
    "P_log_smo=metrics.precision_score(y_test,y_pred)\n",
    "R_log_smo=metrics.recall_score(y_test,y_pred)\n",
    "c_log_smo =sklearn.metrics.classification_report(y_test,y_pred)\n",
    "\n",
    "print(\"Precision score:-\",P_log_smo)\n",
    "print(\"Recall:-\",R_log_smo)\n",
    "sklearn.metrics.plot_confusion_matrix(pred,x_test,y_test,display_labels=mylabels)"
   ]
  },
  {
   "cell_type": "markdown",
   "metadata": {
    "id": "L15rEugAaqpF"
   },
   "source": [
    "## Overview of performances of models after OverSampling with different methods:-"
   ]
  },
  {
   "cell_type": "code",
   "execution_count": 62,
   "metadata": {
    "colab": {
     "base_uri": "https://localhost:8080/"
    },
    "id": "R3cbhD7bak_A",
    "outputId": "81f32d74-f0c9-4921-aed9-45da6db9ba74"
   },
   "outputs": [
    {
     "name": "stdout",
     "output_type": "stream",
     "text": [
      "KNN Random Over:-\n",
      "\n",
      "               precision    recall  f1-score   support\n",
      "\n",
      "           0       1.00      1.00      1.00      5700\n",
      "           1       1.00      1.00      1.00      5673\n",
      "\n",
      "    accuracy                           1.00     11373\n",
      "   macro avg       1.00      1.00      1.00     11373\n",
      "weighted avg       1.00      1.00      1.00     11373\n",
      " \n",
      " Logistic Random Over:-\n",
      "\n",
      "               precision    recall  f1-score   support\n",
      "\n",
      "           0       0.93      0.97      0.95      5700\n",
      "           1       0.97      0.92      0.95      5673\n",
      "\n",
      "    accuracy                           0.95     11373\n",
      "   macro avg       0.95      0.95      0.95     11373\n",
      "weighted avg       0.95      0.95      0.95     11373\n",
      " \n",
      " KNN Imblearn Over:-\n",
      "\n",
      "               precision    recall  f1-score   support\n",
      "\n",
      "           0       1.00      1.00      1.00      1400\n",
      "           1       1.00      1.00      1.00      1444\n",
      "\n",
      "    accuracy                           1.00      2844\n",
      "   macro avg       1.00      1.00      1.00      2844\n",
      "weighted avg       1.00      1.00      1.00      2844\n",
      " \n",
      " Logistic Imblearn Over:-\n",
      "\n",
      "               precision    recall  f1-score   support\n",
      "\n",
      "           0       1.00      1.00      1.00      1400\n",
      "           1       1.00      1.00      1.00      1444\n",
      "\n",
      "    accuracy                           1.00      2844\n",
      "   macro avg       1.00      1.00      1.00      2844\n",
      "weighted avg       1.00      1.00      1.00      2844\n",
      " \n",
      " KNN SMOTE:-\n",
      "\n",
      "               precision    recall  f1-score   support\n",
      "\n",
      "           0       1.00      1.00      1.00      1400\n",
      "           1       1.00      1.00      1.00      1444\n",
      "\n",
      "    accuracy                           1.00      2844\n",
      "   macro avg       1.00      1.00      1.00      2844\n",
      "weighted avg       1.00      1.00      1.00      2844\n",
      " \n",
      " Logistic SMOTE:-\n",
      "\n",
      "               precision    recall  f1-score   support\n",
      "\n",
      "           0       1.00      1.00      1.00      1400\n",
      "           1       1.00      1.00      1.00      1444\n",
      "\n",
      "    accuracy                           1.00      2844\n",
      "   macro avg       1.00      1.00      1.00      2844\n",
      "weighted avg       1.00      1.00      1.00      2844\n",
      "\n"
     ]
    }
   ],
   "source": [
    "print('KNN Random Over:-\\n\\n',c_knn_rup,'\\n',\n",
    "      'Logistic Random Over:-\\n\\n',c_log_rup,'\\n',\n",
    "      'KNN Imblearn Over:-\\n\\n',c_knn_imbup,'\\n', \n",
    "      'Logistic Imblearn Over:-\\n\\n',c_log_imbup,'\\n',\n",
    "      'KNN SMOTE:-\\n\\n',c_knn_smo,'\\n',\n",
    "      'Logistic SMOTE:-\\n\\n',c_log_smo)"
   ]
  },
  {
   "cell_type": "markdown",
   "metadata": {
    "id": "CWPWKIgnH6Uf"
   },
   "source": [
    "## Models for anomaly detection\n",
    "\n",
    "- Now I am gonna try out some models which is used in anomaly detection.\n",
    "- Basically they are made in such a way that it handles the unbalanced data and works good.\n",
    "- Models to be used are:-\n",
    "\n",
    "#### 1) Local Outlier Factor(LOF) Algorithm\n",
    "- The LOF algorithm is an unsupervised outlier detection method which computes the local density deviation of a given data point with respect to its neighbors. \n",
    "- It considers local outliers that have a substantially lower density than their neighbors.\n",
    "\n",
    "- The number of neighbors considered, (parameter n_neighbors) is typically chosen:\n",
    "    - 1) greater than the minimum number of objects a cluster has to contain, so that other objects can be local outliers relative to this cluster, and \n",
    "    - 2) smaller than the maximum number of close by objects that can potentially be local outliers. In practice, such informations are generally not available, and taking n_neighbors=20 appears to work well in general.\n",
    "\n",
    "#### 2) Isolation Forest Algorithm :\n",
    "- This algorithm is based on the fact that anomalies are data points that are few and different. \n",
    "- As a result of these properties, anomalies are susceptible to a mechanism called isolation.\n",
    "\n",
    "- This method is an algorithm with a low linear time complexity and a small memory requirement. \n",
    "- It builds a good performing model with a small number of trees using small sub-samples of fixed size, regardless of the size of a data set.\n",
    "\n",
    "##### How Isolation Forests Work?\n",
    "- The Isolation Forest algorithm isolates observations by randomly selecting a feature and then randomly selecting a split value between the maximum and minimum values of the selected feature.\n",
    "- The logic argument goes:-\n",
    "    - Anomaly observations requires only a few conditions to get separated from the normal observations. \n",
    "    - On the other hand, isolating normal observations require more conditions. \n",
    "    - Therefore, an anomaly score can be calculated as the number of conditions required to separate a given observation.\n",
    "\n",
    "- How this algo creates a model:-\n",
    "     - This algorithm constructs a separation by first creating isolation trees, or random decision trees. \n",
    "     - Then, the score is calculated as the path length to isolate the observation."
   ]
  },
  {
   "cell_type": "code",
   "execution_count": 67,
   "metadata": {},
   "outputs": [
    {
     "name": "stdout",
     "output_type": "stream",
     "text": [
      "Percentage of outliers/fraud cases: 0.0015966014193575613\n",
      "Fraud Cases : 227\n",
      "Valid Cases : 142177\n",
      "(142404, 29)\n",
      "(142404,)\n"
     ]
    }
   ],
   "source": [
    "#Using some sample of data:\n",
    "data= df.sample(frac = 0.5,random_state=1)\n",
    "Fraud = data[data['Class']==1]\n",
    "Valid = data[data['Class']==0]\n",
    "outlier_fraction = len(Fraud)/float(len(Valid))\n",
    "\n",
    "print(\"Percentage of outliers/fraud cases:\",outlier_fraction)\n",
    "print(\"Fraud Cases : {}\".format(len(Fraud)))\n",
    "print(\"Valid Cases : {}\".format(len(Valid)))\n",
    "\n",
    "X=data.iloc[:,:-1]\n",
    "Y=data.iloc[:,-1]\n",
    "\n",
    "print(X.shape)\n",
    "print(Y.shape)"
   ]
  },
  {
   "cell_type": "code",
   "execution_count": 68,
   "metadata": {
    "id": "mZOLwJeLH6Ui"
   },
   "outputs": [],
   "source": [
    "##Define the outlier detection methods\n",
    "classifiers = {\n",
    "    \"Isolation Forest\":IsolationForest(n_estimators=100, max_samples=len(X), \n",
    "                                       contamination=outlier_fraction,random_state=state, verbose=0),\n",
    "    \"Local Outlier Factor\":LocalOutlierFactor(n_neighbors=20, algorithm='auto', \n",
    "                                              leaf_size=30, metric='minkowski',\n",
    "                                              p=2, metric_params=None, contamination=outlier_fraction),\n",
    "}"
   ]
  },
  {
   "cell_type": "code",
   "execution_count": 69,
   "metadata": {
    "colab": {
     "base_uri": "https://localhost:8080/"
    },
    "id": "Gx7vS96FH6Ui",
    "outputId": "7c580257-b5a4-4060-b1c0-d9ded3381dc5"
   },
   "outputs": [
    {
     "name": "stdout",
     "output_type": "stream",
     "text": [
      "The model Isolation Forest throws total: 325 errors and detected a total of 65 frauds out of 492\n",
      "Classification Report :\n",
      "              precision    recall  f1-score   support\n",
      "\n",
      "           0       1.00      1.00      1.00    142177\n",
      "           1       0.29      0.29      0.29       227\n",
      "\n",
      "    accuracy                           1.00    142404\n",
      "   macro avg       0.64      0.64      0.64    142404\n",
      "weighted avg       1.00      1.00      1.00    142404\n",
      "\n",
      "The model Local Outlier Factor throws total: 455 errors and detected a total of 0 frauds out of 492\n",
      "Classification Report :\n",
      "              precision    recall  f1-score   support\n",
      "\n",
      "           0       1.00      1.00      1.00    142177\n",
      "           1       0.00      0.00      0.00       227\n",
      "\n",
      "    accuracy                           1.00    142404\n",
      "   macro avg       0.50      0.50      0.50    142404\n",
      "weighted avg       1.00      1.00      1.00    142404\n",
      "\n"
     ]
    }
   ],
   "source": [
    "#Model building\n",
    "n_outliers = len(fraud)\n",
    "for i, (m_name,m) in enumerate(classifiers.items()):\n",
    "    \n",
    "    #Fit the data and tag outliers:-\n",
    "    if m_name == \"Local Outlier Factor\":\n",
    "        y_pred = m.fit_predict(X)\n",
    "        scores_prediction = m.negative_outlier_factor_\n",
    "    else:    \n",
    "        m.fit(X)\n",
    "        scores_prediction = m.decision_function(X)\n",
    "        y_pred = m.predict(X)\n",
    "        \n",
    "    #Reshape the prediction values to 0 for Valid transactions , 1 for Fraud transactions:-\n",
    "    y_pred[y_pred == 1] = 0\n",
    "    y_pred[y_pred == -1] = 1\n",
    "    total_errors = (y_pred != Y).sum()# when our predicted y not equal actual y thats our error\n",
    "    det_fraud=0\n",
    "    for i,j in zip(Y,y_pred):\n",
    "        if i==1 and j==1:\n",
    "            det_fraud+=1\n",
    "    # Run Classification Metrics\n",
    "    print(\"The model {} throws total: {} errors and detected a total of {} frauds out of {}\".format(m_name,total_errors,det_fraud,len(fraud)))\n",
    "    print(\"Classification Report :\")\n",
    "    print(sklearn.metrics.classification_report(Y,y_pred))"
   ]
  },
  {
   "cell_type": "markdown",
   "metadata": {
    "id": "ai-1IDu3H_32"
   },
   "source": [
    "### Conclusion :\n",
    "- For our anamoly detection models we used half our our dataset as it was huge for my local machine. I used 142177 rows.\n",
    "\n",
    "- Performance:\n",
    "    - Isolation Forest\n",
    "        - It detected a total of 65 frauds out of 492 and thrown a total of 325 errors.\n",
    "        - The detection of fraud cases is around 29 %.\n",
    "\n",
    "    - Local Outlier Factor\n",
    "        - It detected a total of 0 frauds out of 492 and thrown a total of 455 errors.\n",
    "        - The detection of fraud cases is around 0 %.\n",
    "\n",
    "- We can also improve on this accuracy by increasing the sample size or hyper parameter tuning the model , however at the cost of computational expense."
   ]
  },
  {
   "cell_type": "markdown",
   "metadata": {},
   "source": [
    "## Thank You "
   ]
  }
 ],
 "metadata": {
  "accelerator": "GPU",
  "colab": {
   "name": "Credit_card_fraud.ipynb",
   "provenance": []
  },
  "kernelspec": {
   "display_name": "Python 3",
   "language": "python",
   "name": "python3"
  },
  "language_info": {
   "codemirror_mode": {
    "name": "ipython",
    "version": 3
   },
   "file_extension": ".py",
   "mimetype": "text/x-python",
   "name": "python",
   "nbconvert_exporter": "python",
   "pygments_lexer": "ipython3",
   "version": "3.7.3"
  }
 },
 "nbformat": 4,
 "nbformat_minor": 1
}
